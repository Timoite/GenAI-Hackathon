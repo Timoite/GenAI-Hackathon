{
 "cells": [
  {
   "cell_type": "code",
   "execution_count": 106,
   "metadata": {},
   "outputs": [],
   "source": [
    "from langchain.chains import LLMChain\n",
    "from langchain.prompts import ChatPromptTemplate, HumanMessagePromptTemplate, MessagesPlaceholder\n",
    "from langchain.schema import SystemMessage, HumanMessage, AIMessage\n",
    "from langchain_mistralai.chat_models import ChatMistralAI\n",
    "from langchain_community.chat_models.azureml_endpoint import AzureMLChatOnlineEndpoint"
   ]
  },
  {
   "cell_type": "code",
   "execution_count": 125,
   "metadata": {},
   "outputs": [],
   "source": [
    "# Configuration for prompting\n",
    "prompt = ChatPromptTemplate.from_messages([\n",
    "    SystemMessage(content=\"You are a chatbot that creates a timeline of an object or event specified by the user\"),\n",
    "    HumanMessagePromptTemplate.from_template(\"{human_input}\"),\n",
    "])"
   ]
  },
  {
   "cell_type": "code",
   "execution_count": 135,
   "metadata": {},
   "outputs": [],
   "source": [
    "# Configuring the Mistral model endpoint and API key\n",
    "chat_model = ChatMistralAI(\n",
    "    endpoint=\"https://timeliner-htpqj.eastus2.inference.ml.azure.com\",\n",
    "    mistral_api_key=\"JhL6hzIuo2VBAauDdhr08n7hEY73G4NU\",\n",
    "    max_tokens=2000\n",
    ")\n",
    "# Setting up the conversation chain\n",
    "chat_llm_chain = LLMChain(\n",
    "    llm=chat_model,\n",
    "    prompt=prompt,\n",
    "    verbose=True,\n",
    ")"
   ]
  },
  {
   "cell_type": "code",
   "execution_count": 137,
   "metadata": {},
   "outputs": [
    {
     "name": "stdout",
     "output_type": "stream",
     "text": [
      "Sure, here is a brief timeline of the history of bananas:\n",
      "\n",
      "* 10,000 BC: Wild bananas are believed to have originated in Southeast Asia and Papua New Guinea.\n",
      "* 500 BC: Bananas are mentioned in ancient Indian texts as a popular fruit.\n",
      "* 63-149 AD: Chinese scholars write about bananas being grown in southern China.\n",
      "* 650 AD: Bananas are introduced to the Middle East by Persian traders.\n",
      "* 1402: Bananas are first mentioned in European literature by the Italian explorer, Marco Polo.\n",
      "* 1516: Portuguese explorers bring bananas to the Caribbean and South America.\n",
      "* 1870: The first commercial banana plantation is established in Jamaica.\n",
      "* 1885: The United Fruit Company is founded, which becomes a major player in the global banana trade.\n",
      "* 1900-1920: Bananas become a popular fruit in the United States.\n",
      "* 1950s: The development of new banana varieties, such as the Cavendish, leads to increased efficiency in banana production and distribution.\n",
      "* 1960s-1970s: Banana production expands to Central and South America, leading to the displacement of indigenous peoples and environmental degradation.\n",
      "* 1990s-present: Concerns about the environmental and social impacts of banana production lead to the development of fair trade and organic banana certifications.\n",
      "\n",
      "Note: The exact dates and details of banana history may vary based on different sources.\n"
     ]
    }
   ],
   "source": [
    "messages = [\n",
    "    #SystemMessage(content=\"You are a chatbot that creates a timeline of an object or event specified by the user, answer in json format\"),\n",
    "    HumanMessage(content=\"give me a timeline of history of computer, including time\")\n",
    "    ]\n",
    "result = chat_model.invoke(\"give me a timeline of banana, including time\")\n",
    "print(result.content)"
   ]
  }
 ],
 "metadata": {
  "kernelspec": {
   "display_name": "base",
   "language": "python",
   "name": "python3"
  },
  "language_info": {
   "codemirror_mode": {
    "name": "ipython",
    "version": 3
   },
   "file_extension": ".py",
   "mimetype": "text/x-python",
   "name": "python",
   "nbconvert_exporter": "python",
   "pygments_lexer": "ipython3",
   "version": "3.9.12"
  },
  "orig_nbformat": 4
 },
 "nbformat": 4,
 "nbformat_minor": 2
}
