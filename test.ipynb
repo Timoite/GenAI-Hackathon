{
 "cells": [
  {
   "cell_type": "code",
   "execution_count": 1,
   "metadata": {},
   "outputs": [],
   "source": [
    "from langchain.chains import LLMChain\n",
    "from langchain.prompts import PromptTemplate\n",
    "from langchain.prompts import ChatPromptTemplate, HumanMessagePromptTemplate, MessagesPlaceholder\n",
    "from langchain.schema import SystemMessage, HumanMessage, AIMessage\n",
    "from langchain_mistralai.chat_models import ChatMistralAI\n",
    "\n",
    "# Configuring the Mistral model endpoint and API key\n",
    "chat_model = ChatMistralAI(\n",
    "    endpoint=\"https://timeliner-htpqj.eastus2.inference.ml.azure.com\",\n",
    "    mistral_api_key=\"JhL6hzIuo2VBAauDdhr08n7hEY73G4NU\",\n",
    "    max_tokens=2048\n",
    ")"
   ]
  },
  {
   "cell_type": "code",
   "execution_count": 2,
   "metadata": {},
   "outputs": [],
   "source": [
    "template = \"\"\"\n",
    "You are a timeline generator designed to create timelines based on user inputs about specific topics. \n",
    "Your sole output is in JSON format, featuring structured data with \"id\", \"time\" and \"description\" fields. \n",
    "The \"id\" field should contain a unique identifier for the event, the \"time\" field should contain the date or time of the event, and the \"description\" field should contain a detailed description of the event.\n",
    "Aim to provide informative, interesting, and humorous descriptions within the constraints of accuracy and clarity. \n",
    "If the input is vague or incomplete, you should still strive to generate the most relevant and engaging timeline possible, directly in JSON format without any additional introductory text.\n",
    "Query: {query}\n",
    "\"\"\"\n",
    "\n",
    "prompt_template = PromptTemplate(\n",
    "    input_variables=[\"query\"],\n",
    "    template=template\n",
    ")"
   ]
  },
  {
   "cell_type": "code",
   "execution_count": 4,
   "metadata": {},
   "outputs": [],
   "source": [
    "def get_timeline(query):\n",
    "\n",
    "    prompt = prompt_template.format(query = query)\n",
    "    result = chat_model.invoke(prompt)\n",
    "\n",
    "    return result.content"
   ]
  },
  {
   "cell_type": "code",
   "execution_count": 8,
   "metadata": {},
   "outputs": [
    {
     "name": "stdout",
     "output_type": "stream",
     "text": [
      "{\n",
      "\"timeline\": [\n",
      "{\n",
      "\"id\": 1,\n",
      "\"time\": \"60 million years ago\",\n",
      "\"description\": \"The first ancestor of the banana, a small herb-like plant, appeared in Southeast Asia.\"\n",
      "},\n",
      "{\n",
      "\"id\": 2,\n",
      "\"time\": \"10,000 years ago\",\n",
      "\"description\": \"Humans began to domesticate bananas in Papua New Guinea, leading to the creation of the sweet, seedless bananas we know today.\"\n",
      "},\n",
      "{\n",
      "\"id\": 3,\n",
      "\"time\": \"1400s\",\n",
      "\"description\": \"Bananas were brought to the Americas by Spanish explorers, who discovered the fruit in the Caribbean and brought it back to Europe.\"\n",
      "},\n",
      "{\n",
      "\"id\": 4,\n",
      "\"time\": \"1870\",\n",
      "\"description\": \"The first commercial banana plantation was established in Jamaica, leading to the widespread availability of bananas in the United States and Europe.\"\n",
      "},\n",
      "{\n",
      "\"id\": 5,\n",
      "\"time\": \"1923\",\n",
      "\"description\": \"The Chiquita banana brand was founded, becoming one of the most recognizable and iconic banana brands in the world.\"\n",
      "},\n",
      "{\n",
      "\"id\": 6,\n",
      "\"time\": \"1960s\",\n",
      "\"description\": \"Bananas became a symbol of the counterculture movement in the United States, representing peace, love, and good vibes.\"\n",
      "},\n",
      "{\n",
      "\"id\": 7,\n",
      "\"time\": \"2001\",\n",
      "\"description\": \"The animated TV show 'The Simpsons' aired an episode featuring a talking banana named 'Homer Simpson', who sang the now-iconic song 'The Banana Boat Song'.\"\n",
      "},\n",
      "{\n",
      "\"id\": 8,\n",
      "\"time\": \"2010\",\n",
      "\"description\": \"Scientists discovered a new species of banana in the forests of Indonesia, the 'pomelo banana', which tastes like a cross between a banana and a grapefruit.\"\n",
      "}\n",
      "]\n",
      "}\n"
     ]
    }
   ],
   "source": [
    "print(get_timeline(\"banana\"))"
   ]
  }
 ],
 "metadata": {
  "kernelspec": {
   "display_name": "base",
   "language": "python",
   "name": "python3"
  },
  "language_info": {
   "codemirror_mode": {
    "name": "ipython",
    "version": 3
   },
   "file_extension": ".py",
   "mimetype": "text/x-python",
   "name": "python",
   "nbconvert_exporter": "python",
   "pygments_lexer": "ipython3",
   "version": "3.9.12"
  },
  "orig_nbformat": 4
 },
 "nbformat": 4,
 "nbformat_minor": 2
}
